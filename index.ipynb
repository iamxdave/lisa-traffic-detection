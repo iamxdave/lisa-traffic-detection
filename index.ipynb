{
  "cells": [
    {
      "cell_type": "markdown",
      "metadata": {},
      "source": [
        "# Virtual Environment Setup and Dependency Installation\n",
        "\n",
        "This notebook will set up a virtual environment and install all the necessary libraries to run the traffic light detection."
      ]
    },
    {
      "cell_type": "markdown",
      "metadata": {},
      "source": [
        "## Step 1: Create and Activate a Virtual Environment\n",
        "\n",
        "Open a terminal in the main project directory (`lisa_traffic_light_detection/`) and execute the commands below:\n",
        "\n",
        "```bash\n",
        "python -m venv .venv\n",
        "```\n",
        "\n",
        "Next, activate the environment:\n",
        "\n",
        "**For Linux/macOS:**\n",
        "```bash\n",
        "source .venv/bin/activate\n",
        "```\n",
        "\n",
        "**For Windows (Command Prompt):**\n",
        "```bash\n",
        ".venv\\Scripts\\activate.bat\n",
        "```\n",
        "\n",
        "**For Windows (PowerShell):**\n",
        "```powershell\n",
        ".venv\\Scripts\\Activate.ps1\n",
        "```\n",
        "\n",
        "Optional if run on pod\n",
        "```bash\n",
        "pip install ipykernel\n",
        "python -m ipykernel install --user --name=venv --display-name \"Python (venv)\"\n",
        "```"
      ]
    },
    {
      "cell_type": "markdown",
      "metadata": {},
      "source": [
        "## Step 2: Install Dependencies"
      ]
    },
    {
      "cell_type": "code",
      "execution_count": null,
      "metadata": {},
      "outputs": [],
      "source": [
        "import subprocess\n",
        "import sys\n",
        "\n",
        "def install(package_command):\n",
        "    command_list = package_command.split()\n",
        "    subprocess.check_call([sys.executable, \"-m\", \"pip\", \"install\"] + command_list)\n",
        "\n",
        "packages_to_install = [\n",
        "    \"torch torchvision torchaudio --index-url https://download.pytorch.org/whl/cu121\",\n",
        "    \"ultralytics\",\n",
        "    \"opencv-python-headless\",\n",
        "    \"numpy\", \n",
        "    \"pandas\",\n",
        "    \"matplotlib\",\n",
        "    \"albumentations\",\n",
        "    \"pycocotools\",\n",
        "    \"scikit-learn\",\n",
        "    \"PyYAML\",\n",
        "    \"tqdm\",\n",
        "    \"seaborn\",\n",
        "    \"kaggle\", \n",
        "    \"kagglehub\"\n",
        "]\n",
        "\n",
        "for package_cmd in packages_to_install:\n",
        "    try:\n",
        "        package_name = package_cmd.split()[0]\n",
        "        print(f\"Installing {package_name}...\")\n",
        "        install(package_cmd)\n",
        "        print(f\"{package_name} installed successfully.\")\n",
        "    except Exception as e:\n",
        "        print(f\"Error during installation of {package_name}: {e}\")\n",
        "\n",
        "print(\"\\nInstallation of specified packages has been completed.\")"
      ]
    },
    {
      "cell_type": "markdown",
      "metadata": {},
      "source": [
        "## Step 3: Download LISA Dataset using KaggleHub\n",
        "\n",
        "**You can skip this step and download folder manually from:**\n",
        "https://www.kaggle.com/datasets/mbornoe/lisa-traffic-light-dataset\n",
        "\n",
        "**and extract to folder /dataset/lisa_traffic_light_dataset_raw**"
      ]
    },
    {
      "cell_type": "code",
      "execution_count": null,
      "metadata": {},
      "outputs": [
        {
          "name": "stdout",
          "output_type": "stream",
          "text": [
            "INFO: Downloading 'mbornoe/lisa-traffic-light-dataset' via kagglehub...\n",
            "Resuming download from 34603008 bytes (4485568339 bytes left)...\n",
            "Resuming download from https://www.kaggle.com/api/v1/datasets/download/mbornoe/lisa-traffic-light-dataset?dataset_version_number=2 (34603008/4520171347) bytes left.\n"
          ]
        },
        {
          "name": "stderr",
          "output_type": "stream",
          "text": [
            "100%|██████████| 4.21G/4.21G [02:07<00:00, 35.2MB/s]"
          ]
        },
        {
          "name": "stdout",
          "output_type": "stream",
          "text": [
            "Extracting files...\n"
          ]
        },
        {
          "name": "stderr",
          "output_type": "stream",
          "text": [
            "\n"
          ]
        },
        {
          "name": "stdout",
          "output_type": "stream",
          "text": [
            "INFO: Copying dataset from C:\\Users\\Dawid\\.cache\\kagglehub\\datasets\\mbornoe\\lisa-traffic-light-dataset\\versions\\2 to c:\\Users\\Dawid\\Desktop\\lisa-traffic-light-detection\\dataset\\lisa_traffic_light_dataset_raw1...\n",
            "INFO: Dataset successfully placed at c:\\Users\\Dawid\\Desktop\\lisa-traffic-light-detection\\dataset\\lisa_traffic_light_dataset_raw1\n",
            "\n",
            "Dataset setup complete. Files are located at: c:\\Users\\Dawid\\Desktop\\lisa-traffic-light-detection\\dataset\\lisa_traffic_light_dataset_raw1\n"
          ]
        }
      ],
      "source": [
        "import os\n",
        "import kagglehub\n",
        "import shutil\n",
        "\n",
        "# !Fill these values with data from: https://www.kaggle.com/settings\n",
        "KAGGLE_USERNAME_INPUT = \"username\"\n",
        "KAGGLE_KEY_INPUT = \"key\"\n",
        "\n",
        "dataset_handle = 'mbornoe/lisa-traffic-light-dataset'\n",
        "project_root = os.path.abspath(os.getcwd())\n",
        "final_dataset_target_dir = os.path.join(project_root, \"dataset\", \"lisa_traffic_light_dataset_raw\")\n",
        "\n",
        "# --- Setup ---\n",
        "dataset_ready_at_path = None\n",
        "os.environ['KAGGLE_USERNAME'] = KAGGLE_USERNAME_INPUT\n",
        "os.environ['KAGGLE_KEY'] = KAGGLE_KEY_INPUT\n",
        "\n",
        "print(f\"INFO: Downloading '{dataset_handle}' via kagglehub...\")\n",
        "dataset_location = kagglehub.dataset_download(dataset_handle)\n",
        "\n",
        "if os.path.exists(final_dataset_target_dir):\n",
        "    print(f\"INFO: Removing existing target directory: {final_dataset_target_dir}\")\n",
        "    shutil.rmtree(final_dataset_target_dir)\n",
        "\n",
        "print(f\"INFO: Copying dataset from {dataset_location} to {final_dataset_target_dir}...\")\n",
        "shutil.copytree(dataset_location, final_dataset_target_dir)\n",
        "\n",
        "dataset_ready_at_path = final_dataset_target_dir\n",
        "print(f\"INFO: Dataset successfully placed at {dataset_ready_at_path}\")\n",
        "\n",
        "# --- Final Status ---\n",
        "if dataset_ready_at_path and os.path.exists(dataset_ready_at_path):\n",
        "    print(f\"\\nDataset setup complete. Files are located at: {dataset_ready_at_path}\")\n",
        "else:\n",
        "    print(\"\\nCRITICAL ERROR: Dataset setup failed. Please review the error messages above.\")"
      ]
    }
  ],
  "metadata": {
    "kernelspec": {
      "display_name": ".venv",
      "language": "python",
      "name": "python3"
    },
    "language_info": {
      "codemirror_mode": {
        "name": "ipython",
        "version": 3
      },
      "file_extension": ".py",
      "mimetype": "text/x-python",
      "name": "python",
      "nbconvert_exporter": "python",
      "pygments_lexer": "ipython3",
      "version": "3.11.3"
    }
  },
  "nbformat": 4,
  "nbformat_minor": 2
}
